{
  "nbformat": 4,
  "nbformat_minor": 0,
  "metadata": {
    "colab": {
      "name": "Untitled",
      "provenance": [],
      "collapsed_sections": [],
      "authorship_tag": "ABX9TyO4Z33wbaYUfsN2lX14eDJi",
      "include_colab_link": true
    },
    "kernelspec": {
      "name": "python3",
      "display_name": "Python 3"
    }
  },
  "cells": [
    {
      "cell_type": "markdown",
      "metadata": {
        "id": "view-in-github",
        "colab_type": "text"
      },
      "source": [
        "<a href=\"https://colab.research.google.com/github/spraypaint101/ISEECUI2019/blob/master/Untitled.ipynb\" target=\"_parent\"><img src=\"https://colab.research.google.com/assets/colab-badge.svg\" alt=\"Open In Colab\"/></a>"
      ]
    },
    {
      "cell_type": "code",
      "metadata": {
        "id": "81mEJ00kwvUg",
        "outputId": "a3f2ddb0-9b4a-4c12-dac5-4479717f2f47",
        "colab": {
          "base_uri": "https://localhost:8080/",
          "height": 75
        }
      },
      "source": [
        "import sys\n",
        "import os.path\n",
        "import logging\n",
        "import tensorflow as tf\n",
        "\n",
        "import pandas as pd\n",
        "from sklearn.model_selection import train_test_split\n",
        "from sklearn.datasets import load_iris\n",
        "from sklearn.linear_model import Ridge\n",
        "import numpy as np\n",
        "import matplotlib.pyplot as plt\n",
        "from sklearn.svm import SVC\n",
        "from sklearn.model_selection import train_test_split\n",
        "from mlxtend.evaluate import feature_importance_permutation\n",
        "from sklearn.datasets import make_classification\n",
        "from sklearn.ensemble import RandomForestClassifier\n",
        "from sklearn.model_selection import RandomizedSearchCV\n",
        "from sklearn.datasets import make_regression\n",
        "from sklearn.ensemble import GradientBoostingRegressor\n",
        "# import lightgbm as lgb\n",
        "import os\n",
        "from collections import Counter\n",
        "from sklearn.externals import joblib\n",
        "import argparse\n"
      ],
      "execution_count": null,
      "outputs": [
        {
          "output_type": "stream",
          "text": [
            "/usr/local/lib/python3.6/dist-packages/sklearn/externals/joblib/__init__.py:15: FutureWarning: sklearn.externals.joblib is deprecated in 0.21 and will be removed in 0.23. Please import this functionality directly from joblib, which can be installed with: pip install joblib. If this warning is raised when loading pickled models, you may need to re-serialize those models with scikit-learn 0.21+.\n",
            "  warnings.warn(msg, category=FutureWarning)\n"
          ],
          "name": "stderr"
        }
      ]
    },
    {
      "cell_type": "code",
      "metadata": {
        "id": "5zXMms0pw7oe"
      },
      "source": [
        "df = pd.read_csv('cleaned_dataset.csv')"
      ],
      "execution_count": null,
      "outputs": []
    },
    {
      "cell_type": "code",
      "metadata": {
        "id": "120zpdqBw-W9"
      },
      "source": [
        "df = df.drop(['Unnamed: 0'], axis = 1)"
      ],
      "execution_count": null,
      "outputs": []
    },
    {
      "cell_type": "code",
      "metadata": {
        "id": "j2SjmjAtxBg5"
      },
      "source": [
        "def create_model_sk(df):\n",
        "    # Labels are the values we want to predict\n",
        "    labels = np.array(df['Price / sqm'])\n",
        "\n",
        "    # Remove the labels from the features\n",
        "    # Subcluster col is just a number, not needed at this stage\n",
        "    features = np.array(df.drop(['Price / sqm'], axis=1))\n",
        "    print(features[0])\n",
        "    np.random.seed = 42  # to get the same results use this same seed\n",
        "    temp_features, test_features, temp_labels, test_labels = train_test_split(features,\n",
        "                                                                              labels,\n",
        "                                                                              test_size=0.25,\n",
        "                                                                              random_state=42)\n",
        "    np.random.seed = 42\n",
        "    train_features, valid_features, train_labels, valid_labels = train_test_split(temp_features,\n",
        "                                                                                  temp_labels,\n",
        "                                                                                  test_size=0.00001,\n",
        "                                                                                  random_state=42)\n",
        "    hyper_params = {\n",
        "        'task': 'train',\n",
        "        'boosting_type': 'gbdt',\n",
        "        'objective': 'regression',\n",
        "        'metric': ['mape'],\n",
        "        'learning_rate': 0.5,\n",
        "        'feature_fraction': 0.7,\n",
        "        'bagging_fraction': 0.9,\n",
        "        'bagging_freq': 5,\n",
        "        'verbose': 0,\n",
        "        \"max_depth\": 32,\n",
        "        \"num_leaves\": 63,\n",
        "        \"max_bin\": 255,\n",
        "        \"num_iterations\": 1000000,\n",
        "        \"n_estimators\": 50000,\n",
        "        \"min_samples_splits\" : 10,\n",
        "        \"max_features\": 5\n",
        "    }\n",
        "\n",
        "    gbm = GradientBoostingRegressor()\n",
        "    gbm.fit(train_features, train_labels)\n",
        "    predictions = gbm.predict(test_features)\n",
        "    errors = abs(predictions - test_labels)\n",
        "    mape_raw = 100 * (errors / test_labels)\n",
        "    real_errors = predictions - test_labels\n",
        "\n",
        "    # Removing outliers\n",
        "    mape = []\n",
        "    for i in mape_raw:\n",
        "        if i < 100:\n",
        "            mape.append(round(i, 4))\n",
        "\n",
        "    print('Pinvalue Mean Absolute Error:', round(np.mean(mape), 4), '%')\n",
        "    accuracy = np.median(mape)\n",
        "    print('Pinvalue Median Error:', round(accuracy, 4), '%.')\n",
        "    print('Percentage of Outliers Excluded:', round(\n",
        "        (len(mape_raw)-len(mape))*100/len(mape_raw), 4), '%.')\n",
        "    \n",
        "    df['predictions'] = gbm.predict(features)\n",
        "    return df\n"
      ],
      "execution_count": null,
      "outputs": []
    },
    {
      "cell_type": "code",
      "metadata": {
        "id": "Y_mEMDuIyf2d",
        "outputId": "135ffdf9-a219-4e13-ae2f-b4242e3933ce",
        "colab": {
          "base_uri": "https://localhost:8080/",
          "height": 169
        }
      },
      "source": [
        "result = create_model_sk(df)"
      ],
      "execution_count": null,
      "outputs": [
        {
          "output_type": "stream",
          "text": [
            "[ 7.20000000e+01  7.20000000e+01 -6.24439140e+00  1.06776540e+02\n",
            "  1.76172341e+03  8.95738725e+02  2.00120353e+03  5.92493960e+02\n",
            "  5.34884288e+02  5.95550250e+03  1.19159834e+03  6.15984471e+02\n",
            "  2.37830545e+03  6.75862069e+07  8.77192982e+06  2.57894737e+07\n",
            "  1.06020531e+07]\n",
            "Pinvalue Mean Absolute Error: 27.1498 %\n",
            "Pinvalue Median Error: 21.9928 %.\n",
            "Percentage of Outliers Excluded: 7.3239 %.\n"
          ],
          "name": "stdout"
        }
      ]
    },
    {
      "cell_type": "code",
      "metadata": {
        "id": "fvsNUqWTyicc",
        "outputId": "4dcb328b-dd6b-4db6-d8fe-48a9cf365f53",
        "colab": {
          "base_uri": "https://localhost:8080/",
          "height": 36
        }
      },
      "source": [
        "sum(result['predictions'] < 0)"
      ],
      "execution_count": null,
      "outputs": [
        {
          "output_type": "execute_result",
          "data": {
            "text/plain": [
              "0"
            ]
          },
          "metadata": {
            "tags": []
          },
          "execution_count": 55
        }
      ]
    },
    {
      "cell_type": "code",
      "metadata": {
        "id": "Buswulie1lZ5"
      },
      "source": [
        ""
      ],
      "execution_count": null,
      "outputs": []
    }
  ]
}